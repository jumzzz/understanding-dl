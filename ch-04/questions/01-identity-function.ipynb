{
 "cells": [
  {
   "cell_type": "markdown",
   "metadata": {},
   "source": [
    "#### Problem 4.7\n",
    "\n",
    "Choose values for the parameters $\\phi = \\{ \\phi_0, \\phi_1, \\phi_2, \\phi_3, \\theta_{10}, \\theta_{11}, \\theta_{20}, \\theta_{21}, \\theta_{30}, \\theta_{31} \\}$ for the shallow neural network in equation 3.1 that will define an identity function over a finite range $x \\in [a,b]$\n",
    "\n",
    "#### Equation 3.1\n",
    "\n",
    "$y = \\phi_0 + \\phi_1 a[\\theta_{10} + \\theta_{11}x] + \\phi_2 a[\\theta_{20} + \\theta_{21}x] + \\phi_3 a[\\theta_{30} + \\theta_{31}x]$"
   ]
  },
  {
   "cell_type": "code",
   "execution_count": 16,
   "metadata": {},
   "outputs": [
    {
     "name": "stdout",
     "output_type": "stream",
     "text": [
      "[[0.         1.         0.        ]\n",
      " [0.         0.77777778 0.        ]\n",
      " [0.         0.55555556 0.        ]\n",
      " [0.         0.33333333 0.        ]\n",
      " [0.         0.11111111 0.        ]\n",
      " [0.11111111 0.         0.        ]\n",
      " [0.33333333 0.         0.        ]\n",
      " [0.55555556 0.         0.        ]\n",
      " [0.77777778 0.         0.        ]\n",
      " [1.         0.         0.        ]]\n",
      "[[0.]\n",
      " [0.]\n",
      " [0.]\n",
      " [0.]\n",
      " [0.]\n",
      " [0.]\n",
      " [0.]\n",
      " [0.]\n",
      " [0.]\n",
      " [0.]]\n"
     ]
    }
   ],
   "source": [
    "import numpy as np\n",
    "\n",
    "def relu(X):\n",
    "    return np.where(X > 0, X, 0)\n",
    "\n",
    "X = np.linspace(-1, 1, num=10).reshape(-1,1)\n",
    "theta = np.array([1, -1, 0]).reshape(1,-1)\n",
    "phi = np.array([1, -1, 0]).reshape(-1, 1)\n",
    "\n",
    "print(relu(X @ theta))\n",
    "\n",
    "y = relu(X @ theta) @ phi\n",
    "\n",
    "\n",
    "print(X - y)"
   ]
  },
  {
   "cell_type": "markdown",
   "metadata": {},
   "source": [
    "### Conclusion\n",
    "\n",
    "Hence, the values are\n",
    "\n",
    "$\\phi = \\{ 0, 1, -1, 0, 0, 1, 0, -1, 0, 0 \\} \\quad \\blacksquare$\n"
   ]
  },
  {
   "cell_type": "markdown",
   "metadata": {},
   "source": []
  }
 ],
 "metadata": {
  "kernelspec": {
   "display_name": "ml",
   "language": "python",
   "name": "python3"
  },
  "language_info": {
   "codemirror_mode": {
    "name": "ipython",
    "version": 3
   },
   "file_extension": ".py",
   "mimetype": "text/x-python",
   "name": "python",
   "nbconvert_exporter": "python",
   "pygments_lexer": "ipython3",
   "version": "3.11.7"
  }
 },
 "nbformat": 4,
 "nbformat_minor": 2
}
