{
 "cells": [
  {
   "cell_type": "code",
   "execution_count": null,
   "metadata": {},
   "outputs": [],
   "source": [
    "import numpy as np \n",
    "import matplotlib.pyplot as plt\n",
    "\n",
    "total_average_err = []\n",
    "\n",
    "dataset_size = 1000\n",
    "num_iter = 10\n",
    "\n",
    "x = np.random.rand(dataset_size, 2).astype(np.float64)\n",
    "x[:,0] = x[:,0] * 0 \n",
    "w = np.random.rand(1,2).astype(np.float64)\n",
    "y = x @ w.T\n",
    "\n",
    "for i in range(0, 1000):\n",
    "    x_recovered = (y @ w @ (np.linalg.inv(w.T @ w)))\n",
    "    mse_error = np.mean((x - x_recovered)**2)\n",
    "    total_average_err.append(mse_error)\n",
    "    # print(mse_error)\n",
    "\n",
    "\n",
    "for i in range(0, num_iter):\n",
    "    x = np.random.rand(dataset_size, 2).astype(np.float64)\n",
    "    x[:,0] = x[:,0] * 0 + 1\n",
    "    w = np.random.rand(1,2).astype(np.float64)\n",
    "    y = x @ w.T\n",
    "    w_outer = w.T @ w\n",
    "    \n",
    "    x_recovered = (y @ w @ (np.linalg.inv(w_outer)))\n",
    "    mse_error = np.mean((x - x_recovered)**2)\n",
    "    total_average_err.append(mse_error)"
   ]
  }
 ],
 "metadata": {
  "kernelspec": {
   "display_name": "ml",
   "language": "python",
   "name": "python3"
  },
  "language_info": {
   "name": "python",
   "version": "3.11.7"
  }
 },
 "nbformat": 4,
 "nbformat_minor": 2
}
