{
 "cells": [
  {
   "cell_type": "markdown",
   "metadata": {},
   "source": [
    "## Experiment on Chapter 02 - Problem #3 "
   ]
  },
  {
   "cell_type": "markdown",
   "metadata": {},
   "source": [
    "### First Case\n",
    "\n",
    "$\n",
    "\\newline\n",
    "\\boldsymbol{y} = \\begin{bmatrix}\n",
    "y_1\\\\\n",
    "y_2\\\\\n",
    "...\\\\\n",
    "y_d\n",
    "\\end{bmatrix} \\quad\n",
    "X = \\begin{bmatrix}\n",
    "1 & x_1\\\\\n",
    "1 & x_2\\\\\n",
    "... & ...\\\\\n",
    "1 & x_d\n",
    "\\end{bmatrix} \\quad \n",
    "\\boldsymbol{\\phi} = \\begin{bmatrix}\n",
    "\\phi_0 & \\phi_1\n",
    "\\end{bmatrix} \n",
    "$\n",
    "\n",
    "$\\text{Such that}$\n",
    "\n",
    "$\n",
    "y = X\\boldsymbol{\\phi}^T\n",
    "$\n",
    "\n",
    "and \n",
    "\n",
    "$\n",
    "X = y\\boldsymbol{\\phi}(\\boldsymbol{\\phi}^T\\boldsymbol{\\phi})^{-1}\n",
    "$"
   ]
  },
  {
   "cell_type": "code",
   "execution_count": 1,
   "metadata": {},
   "outputs": [
    {
     "name": "stdout",
     "output_type": "stream",
     "text": [
      "(1, 2)\n",
      "(1, 2)\n",
      "(1, 2)\n",
      "(1, 2)\n",
      "(1, 2)\n",
      "(1, 2)\n",
      "(1, 2)\n",
      "(1, 2)\n",
      "(1, 2)\n",
      "(1, 2)\n",
      "Case #1 Error:  28.790306739993582\n"
     ]
    }
   ],
   "source": [
    "import numpy as np\n",
    "\n",
    "total_average_err = []\n",
    "\n",
    "dataset_size = 1000\n",
    "num_iter = 10\n",
    "\n",
    "for i in range(0, num_iter):\n",
    "    x = np.random.rand(dataset_size, 2).astype(np.float64)\n",
    "    x[:,0] = x[:,0] * 0 + 1\n",
    "    w = np.random.rand(1,2).astype(np.float64)\n",
    "    y = x @ w.T\n",
    "    w_outer = w.T @ w\n",
    "    print('w_outer.shape = ', w_outer.shape)\n",
    "    \n",
    "    x_recovered = (y @ w @ (np.linalg.inv(w.T @ w)))\n",
    "    mse_error = np.mean((x - x_recovered)**2)\n",
    "    total_average_err.append(mse_error)\n",
    "\n",
    "print('Case #1 Error: ', np.max(total_average_err))"
   ]
  },
  {
   "cell_type": "markdown",
   "metadata": {},
   "source": [
    "\n",
    "### Second Case\n",
    "\n",
    "$\n",
    "\\newline\n",
    "\\boldsymbol{y} = \\begin{bmatrix}\n",
    "y_1\\\\\n",
    "y_2\\\\\n",
    "...\\\\\n",
    "y_d\n",
    "\\end{bmatrix} \\quad\n",
    "X = \\begin{bmatrix}\n",
    "0 & x_1\\\\\n",
    "0 & x_2\\\\\n",
    "... & ...\\\\\n",
    "0 & x_d\n",
    "\\end{bmatrix} \\quad \n",
    "\\boldsymbol{\\phi} = \\begin{bmatrix}\n",
    "\\phi_0 & \\phi_1\n",
    "\\end{bmatrix} \n",
    "$\n",
    "\n",
    "$\\text{Such that}$\n",
    "\n",
    "$\n",
    "y = X\\boldsymbol{\\phi}^T\n",
    "$\n",
    "\n",
    "and \n",
    "\n",
    "$\n",
    "X = y\\boldsymbol{\\phi}(\\boldsymbol{\\phi}^T\\boldsymbol{\\phi})^{-1}\n",
    "$"
   ]
  },
  {
   "cell_type": "code",
   "execution_count": 89,
   "metadata": {},
   "outputs": [
    {
     "name": "stdout",
     "output_type": "stream",
     "text": [
      "Case #1 Error:  2474.8239698956695\n"
     ]
    }
   ],
   "source": [
    "total_average_err = []\n",
    "\n",
    "dataset_size = 1000\n",
    "for i in range(0, 1000):\n",
    "    x = np.random.rand(dataset_size, 2).astype(np.float64)\n",
    "    x[:,0] = x[:,0] * 0 \n",
    "    w = np.random.rand(1,2).astype(np.float64)\n",
    "    y = x @ w.T\n",
    "    x_recovered = (y @ w @ (np.linalg.inv(w.T @ w)))\n",
    "    mse_error = np.mean((x - x_recovered)**2)\n",
    "    total_average_err.append(mse_error)\n",
    "    # print(mse_error)\n",
    "\n",
    "print('Case #2 Error: ', np.mean(total_average_err))"
   ]
  },
  {
   "cell_type": "markdown",
   "metadata": {},
   "source": [
    "\n",
    "### Third Case\n",
    "\n",
    "$\n",
    "\\newline\n",
    "\\boldsymbol{y} = \\begin{bmatrix}\n",
    "y_1\\\\\n",
    "y_2\\\\\n",
    "...\\\\\n",
    "y_d\n",
    "\\end{bmatrix} \\quad\n",
    "X = \\begin{bmatrix}\n",
    "0 & x_1\\\\\n",
    "0 & x_2\\\\\n",
    "... & ...\\\\\n",
    "0 & x_d\n",
    "\\end{bmatrix} \\quad \n",
    "$\n",
    "\n",
    "$\\text{Such that}$\n",
    "\n",
    "$\n",
    "y = X{\\phi_1} + {\\phi}_0 \n",
    "$\n",
    "\n",
    "$\n",
    "X = (y - \\phi_0)/\\phi_1\n",
    "$\n",
    "\n",
    "Obviously, this should work"
   ]
  },
  {
   "cell_type": "code",
   "execution_count": 91,
   "metadata": {},
   "outputs": [
    {
     "name": "stdout",
     "output_type": "stream",
     "text": [
      "Case #2 Error:  7.620414933703757e-27\n"
     ]
    }
   ],
   "source": [
    "total_average_err = []\n",
    "\n",
    "dataset_size = 1000\n",
    "for i in range(0, 1000):\n",
    "    x = np.random.rand(dataset_size, 1).astype(np.float64)\n",
    "    w1 = np.random.rand(1).astype(np.float64)\n",
    "    w0 = np.random.rand(1).astype(np.float64)\n",
    "    y = x * w1 + w0\n",
    "    x_recovered = (y - w0) / w1  \n",
    "    mse_error = np.mean((x - x_recovered)**2)\n",
    "    total_average_err.append(mse_error)\n",
    "    # print(mse_error)\n",
    "\n",
    "print('Case #2 Error: ', np.mean(total_average_err))"
   ]
  },
  {
   "cell_type": "markdown",
   "metadata": {},
   "source": [
    "### Concluding Remarks\n",
    "- We should understand what's happening on Case #1 and Case #2. From my understanding, Matrix Inverses should be unique.\n",
    "- Also, it's clear how limited my **Equations** are. I should focus on code grinding."
   ]
  }
 ],
 "metadata": {
  "kernelspec": {
   "display_name": "base",
   "language": "python",
   "name": "python3"
  },
  "language_info": {
   "codemirror_mode": {
    "name": "ipython",
    "version": 3
   },
   "file_extension": ".py",
   "mimetype": "text/x-python",
   "name": "python",
   "nbconvert_exporter": "python",
   "pygments_lexer": "ipython3",
   "version": "3.11.7"
  }
 },
 "nbformat": 4,
 "nbformat_minor": 2
}
