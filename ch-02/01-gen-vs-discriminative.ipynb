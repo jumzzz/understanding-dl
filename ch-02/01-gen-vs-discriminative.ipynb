{
 "cells": [
  {
   "cell_type": "markdown",
   "metadata": {},
   "source": [
    "## Experiment on Chapter 02 - Problem #3 "
   ]
  },
  {
   "cell_type": "markdown",
   "metadata": {},
   "source": [
    "### First Case\n",
    "\n",
    "$\n",
    "\\newline\n",
    "\\boldsymbol{y} = \\begin{bmatrix}\n",
    "y_1\\\\\n",
    "y_2\\\\\n",
    "...\\\\\n",
    "y_d\n",
    "\\end{bmatrix} \\quad\n",
    "X = \\begin{bmatrix}\n",
    "1 & x_1\\\\\n",
    "1 & x_2\\\\\n",
    "... & ...\\\\\n",
    "1 & x_d\n",
    "\\end{bmatrix} \\quad \n",
    "\\boldsymbol{\\phi} = \\begin{bmatrix}\n",
    "\\phi_0 & \\phi_1\n",
    "\\end{bmatrix} \n",
    "$\n",
    "\n",
    "$\\text{Such that}$\n",
    "\n",
    "$\n",
    "y = X\\boldsymbol{\\phi}^T\n",
    "$\n",
    "\n",
    "and \n",
    "\n",
    "$\n",
    "X = y\\boldsymbol{\\phi}(\\boldsymbol{\\phi}^T\\boldsymbol{\\phi})^{-1}\n",
    "$"
   ]
  },
  {
   "cell_type": "code",
   "execution_count": 38,
   "metadata": {},
   "outputs": [
    {
     "name": "stdout",
     "output_type": "stream",
     "text": [
      "Case #1 Error:  68738.35115097645\n"
     ]
    }
   ],
   "source": [
    "import numpy as np\n",
    "\n",
    "total_average_err = []\n",
    "\n",
    "dataset_size = 1000\n",
    "num_iter = 10\n",
    "\n",
    "for i in range(0, num_iter):\n",
    "    x = np.random.rand(dataset_size, 2).astype(np.float64)\n",
    "    x[:,0] = x[:,0] * 0 + 1\n",
    "    w = np.random.rand(1,2).astype(np.float64)\n",
    "    y = x @ w.T\n",
    "    w_outer = w.T @ w\n",
    "    \n",
    "    x_recovered = (y @ w @ (np.linalg.inv(w_outer)))\n",
    "    mse_error = np.mean((x - x_recovered)**2)\n",
    "    total_average_err.append(mse_error)\n",
    "\n",
    "print('Case #1 Error: ', np.max(total_average_err))"
   ]
  },
  {
   "cell_type": "markdown",
   "metadata": {},
   "source": [
    "\n",
    "### Second Case\n",
    "\n",
    "$\n",
    "\\newline\n",
    "\\boldsymbol{y} = \\begin{bmatrix}\n",
    "y_1\\\\\n",
    "y_2\\\\\n",
    "...\\\\\n",
    "y_d\n",
    "\\end{bmatrix} \\quad\n",
    "X = \\begin{bmatrix}\n",
    "0 & x_1\\\\\n",
    "0 & x_2\\\\\n",
    "... & ...\\\\\n",
    "0 & x_d\n",
    "\\end{bmatrix} \\quad \n",
    "\\boldsymbol{\\phi} = \\begin{bmatrix}\n",
    "\\phi_0 & \\phi_1\n",
    "\\end{bmatrix} \n",
    "$\n",
    "\n",
    "$\\text{Such that}$\n",
    "\n",
    "$\n",
    "y = X\\boldsymbol{\\phi}^T\n",
    "$\n",
    "\n",
    "and \n",
    "\n",
    "$\n",
    "X = y\\boldsymbol{\\phi}(\\boldsymbol{\\phi}^T\\boldsymbol{\\phi})^{-1}\n",
    "$"
   ]
  },
  {
   "cell_type": "code",
   "execution_count": null,
   "metadata": {},
   "outputs": [],
   "source": []
  },
  {
   "cell_type": "code",
   "execution_count": 89,
   "metadata": {},
   "outputs": [
    {
     "name": "stdout",
     "output_type": "stream",
     "text": [
      "Case #1 Error:  2474.8239698956695\n"
     ]
    }
   ],
   "source": [
    "total_average_err = []\n",
    "\n",
    "dataset_size = 1000\n",
    "for i in range(0, 1000):\n",
    "    x = np.random.rand(dataset_size, 2).astype(np.float64)\n",
    "    x[:,0] = x[:,0] * 0 \n",
    "    w = np.random.rand(1,2).astype(np.float64)\n",
    "    y = x @ w.T\n",
    "    x_recovered = (y @ w @ (np.linalg.inv(w.T @ w)))\n",
    "    mse_error = np.mean((x - x_recovered)**2)\n",
    "    total_average_err.append(mse_error)\n",
    "    # print(mse_error)\n",
    "\n",
    "print('Case #2 Error: ', np.mean(total_average_err))"
   ]
  },
  {
   "cell_type": "markdown",
   "metadata": {},
   "source": [
    "\n",
    "### Third Case\n",
    "\n",
    "$\n",
    "\\newline\n",
    "\\boldsymbol{y} = \\begin{bmatrix}\n",
    "y_1\\\\\n",
    "y_2\\\\\n",
    "...\\\\\n",
    "y_d\n",
    "\\end{bmatrix} \\quad\n",
    "X = \\begin{bmatrix}\n",
    "0 & x_1\\\\\n",
    "0 & x_2\\\\\n",
    "... & ...\\\\\n",
    "0 & x_d\n",
    "\\end{bmatrix} \\quad \n",
    "$\n",
    "\n",
    "$\\text{Such that}$\n",
    "\n",
    "$\n",
    "y = X{\\phi_1} + {\\phi}_0 \n",
    "$\n",
    "\n",
    "$\n",
    "X = (y - \\phi_0)/\\phi_1\n",
    "$\n",
    "\n",
    "Obviously, this should work"
   ]
  },
  {
   "cell_type": "code",
   "execution_count": 91,
   "metadata": {},
   "outputs": [
    {
     "name": "stdout",
     "output_type": "stream",
     "text": [
      "Case #2 Error:  7.620414933703757e-27\n"
     ]
    }
   ],
   "source": [
    "total_average_err = []\n",
    "\n",
    "dataset_size = 1000\n",
    "for i in range(0, 1000):\n",
    "    x = np.random.rand(dataset_size, 1).astype(np.float64)\n",
    "    w1 = np.random.rand(1).astype(np.float64)\n",
    "    w0 = np.random.rand(1).astype(np.float64)\n",
    "    y = x * w1 + w0\n",
    "    x_recovered = (y - w0) / w1  \n",
    "    mse_error = np.mean((x - x_recovered)**2)\n",
    "    total_average_err.append(mse_error)\n",
    "    # print(mse_error)\n",
    "\n",
    "print('Case #2 Error: ', np.mean(total_average_err))"
   ]
  },
  {
   "cell_type": "markdown",
   "metadata": {},
   "source": [
    "### Additional Investigation"
   ]
  },
  {
   "cell_type": "code",
   "execution_count": 27,
   "metadata": {},
   "outputs": [
    {
     "name": "stdout",
     "output_type": "stream",
     "text": [
      "w_outer = \n",
      " [[0.24689861 0.27880346]\n",
      " [0.27880346 0.31483115]]\n",
      "w_outer_inv_v1 = \n",
      " [[ 4.73287840e+16 -4.19127174e+16]\n",
      " [-4.19127174e+16  3.71164381e+16]]\n",
      "w_outer_inv_v2 = \n",
      " [[ 4.73287840e+16 -4.19127174e+16]\n",
      " [-4.19127174e+16  3.71164381e+16]]\n",
      "w_outer_inv_v1 - w_outer_inv_v2 = \n",
      " [[0. 0.]\n",
      " [0. 0.]]\n"
     ]
    }
   ],
   "source": [
    "import numpy as np\n",
    "import matplotlib.pyplot as plt\n",
    "\n",
    "total_average_err = []\n",
    "total_inv_err = []\n",
    "w_outer_invs = []\n",
    "\n",
    "dataset_size = 1000\n",
    "num_iter = 10\n",
    "\n",
    "x = np.random.rand(dataset_size, 2).astype(np.float64)\n",
    "x[:,0] = x[:,0] * 0 + 1\n",
    "w = np.random.rand(1,2).astype(np.float64)\n",
    "y = x @ w.T\n",
    "w_outer = w.T @ w\n",
    "\n",
    "w_outer_inv_v1 = np.linalg.inv(w_outer)\n",
    "w_outer_inv_v2 = np.linalg.inv(w_outer)\n",
    "\n",
    "print('w_outer = \\n', w_outer)\n",
    "print('w_outer_inv_v1 = \\n', w_outer_inv_v1)\n",
    "print('w_outer_inv_v2 = \\n', w_outer_inv_v2)\n",
    "print('w_outer_inv_v1 - w_outer_inv_v2 = \\n', np.abs(w_outer_inv_v1 - w_outer_inv_v2))"
   ]
  },
  {
   "cell_type": "markdown",
   "metadata": {},
   "source": [
    "```\n",
    "w_outer_inv_v1 = \n",
    " [[ 4.73287840e+16 -4.19127174e+16]\n",
    " [-4.19127174e+16  3.71164381e+16]]\n",
    "w_outer_inv_v2 = \n",
    " [[ 4.73287840e+16 -4.19127174e+16]\n",
    " [-4.19127174e+16  3.71164381e+16]]\n",
    "```"
   ]
  },
  {
   "cell_type": "markdown",
   "metadata": {},
   "source": [
    "### Concluding Remarks\n",
    "- Errors happening in **Case #1** and **Case #2** are attributed by large values of the inverse with magnitude ~$10^{16}$"
   ]
  }
 ],
 "metadata": {
  "kernelspec": {
   "display_name": "base",
   "language": "python",
   "name": "python3"
  },
  "language_info": {
   "codemirror_mode": {
    "name": "ipython",
    "version": 3
   },
   "file_extension": ".py",
   "mimetype": "text/x-python",
   "name": "python",
   "nbconvert_exporter": "python",
   "pygments_lexer": "ipython3",
   "version": "3.11.7"
  }
 },
 "nbformat": 4,
 "nbformat_minor": 2
}
