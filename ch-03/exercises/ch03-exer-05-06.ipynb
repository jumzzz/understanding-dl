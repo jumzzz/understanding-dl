{
 "cells": [
  {
   "cell_type": "markdown",
   "metadata": {},
   "source": [
    "### Problem 3.5\n",
    "Prove that the property holds true for $\\alpha \\in \\mathbb{R}^{+}$:\n",
    "\n",
    "$$ \\text{ReLU}[\\alpha \\cdot z] = \\alpha \\cdot \\text{ReLU} [z]$$\n",
    "**ReLU Definition**\n",
    "$$\n",
    "a[z] = ReLU[z] = \n",
    "\\begin{cases}\n",
    "0, \\quad z < 0 \\\\\n",
    "z, \\quad z \\ge 0 \\\\\n",
    "\\end{cases}\n",
    "$$\n",
    "**Proof**\n",
    "- $\\text{For case: }z \\le 0$\n",
    "     > $ReLU[\\alpha \\cdot 0] = \\alpha \\cdot ReLU[0] \\quad \\text{then} \\\\$\n",
    "       $ReLU[0] = \\alpha \\cdot 0 \\quad \\text{then} \\\\$\n",
    "       $0 = 0 \\quad \\blacksquare \\\\$ \n",
    "\n",
    "- $\\text{For case: }z \\gt 0$\n",
    "     > $ReLU[\\alpha \\cdot z] = \\alpha \\cdot ReLU[z] \\quad \\text{then} \\\\$\n",
    "       $\\alpha \\cdot z = \\alpha \\cdot z \\quad \\blacksquare \\\\$\n",
    "\n",
    "**Conclusion**\n",
    "- By $\\text{case: } z \\leq 0$ and $\\text{case: } z \\gt 0$ then $\\text{ReLU}[\\alpha \\cdot z] = \\alpha \\cdot \\text{ReLU} [z] \\quad \\blacksquare$ \n"
   ]
  },
  {
   "cell_type": "markdown",
   "metadata": {},
   "source": []
  }
 ],
 "metadata": {
  "kernelspec": {
   "display_name": "ml",
   "language": "python",
   "name": "python3"
  },
  "language_info": {
   "codemirror_mode": {
    "name": "ipython",
    "version": 3
   },
   "file_extension": ".py",
   "mimetype": "text/x-python",
   "name": "python",
   "nbconvert_exporter": "python",
   "pygments_lexer": "ipython3",
   "version": "3.11.7"
  }
 },
 "nbformat": 4,
 "nbformat_minor": 2
}
