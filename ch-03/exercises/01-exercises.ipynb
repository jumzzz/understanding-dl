{
 "cells": [
  {
   "cell_type": "markdown",
   "metadata": {},
   "source": [
    "### Problem 3.5\n",
    "Prove that the property holds true for $\\alpha \\in \\mathbb{R}^{+}$:\n",
    "\n",
    "$$ \\text{ReLU}[\\alpha \\cdot z] = \\alpha \\cdot \\text{ReLU} [z]$$\n",
    "**ReLU Definition**\n",
    "$$\n",
    "a[z] = ReLU[z] = \n",
    "\\begin{cases}\n",
    "0, \\quad z < 0 \\\\\n",
    "z, \\quad z \\ge 0 \\\\\n",
    "\\end{cases}\n",
    "$$\n",
    "**Proof**\n",
    "- $\\text{For case: }z \\le 0$\n",
    "     > $ReLU[\\alpha \\cdot 0] = \\alpha \\cdot ReLU[0] \\quad \\text{then} \\\\$\n",
    "       $ReLU[0] = \\alpha \\cdot 0 \\quad \\text{then} \\\\$\n",
    "       $0 = 0 \\quad \\blacksquare \\\\$ \n",
    "\n",
    "- $\\text{For case: }z \\gt 0$\n",
    "     > $ReLU[\\alpha \\cdot z] = \\alpha \\cdot ReLU[z] \\quad \\text{then} \\\\$\n",
    "       $\\alpha \\cdot z = \\alpha \\cdot z \\quad \\blacksquare \\\\$\n",
    "\n",
    "**Conclusion**\n",
    "- By $\\text{case: } z \\leq 0$ and $\\text{case: } z \\gt 0$ then $\\text{ReLU}[\\alpha \\cdot z] = \\alpha \\cdot \\text{ReLU} [z] \\quad \\blacksquare$ \n"
   ]
  },
  {
   "cell_type": "markdown",
   "metadata": {},
   "source": [
    "### Proof"
   ]
  },
  {
   "cell_type": "markdown",
   "metadata": {},
   "source": []
  },
  {
   "cell_type": "markdown",
   "metadata": {},
   "source": []
  },
  {
   "cell_type": "markdown",
   "metadata": {},
   "source": []
  },
  {
   "cell_type": "markdown",
   "metadata": {},
   "source": []
  },
  {
   "cell_type": "markdown",
   "metadata": {},
   "source": []
  }
 ],
 "metadata": {
  "language_info": {
   "name": "python"
  }
 },
 "nbformat": 4,
 "nbformat_minor": 2
}
