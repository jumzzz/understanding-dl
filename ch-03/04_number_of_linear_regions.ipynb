{
 "cells": [
  {
   "cell_type": "markdown",
   "metadata": {},
   "source": [
    "### Number of Hiddent Units\n",
    "\n",
    "#### Number of Linear Regions\n",
    "$\\sum^{D_i}_{j=0}\\binom{D}{j}$\n",
    "\n",
    "### So for the following Network\n",
    "\n",
    "![linear regions](exercises/exer_screenshots/linear_regions.png)\n"
   ]
  },
  {
   "cell_type": "markdown",
   "metadata": {},
   "source": [
    "$\\text{total linear regions} = \\binom{3}{0} + \\binom{3}{1} + \\binom{3}{2} + \\binom{3}{3} = 8$\n",
    "\n",
    "#### For further details:\n",
    "\n",
    "$\\text{Case 1: } \\binom{3}{0} $\n",
    "\n",
    "$0$\n",
    "\n",
    "$\\text{Case 2: } \\binom{3}{1} $\n",
    "\n",
    "$\\theta_{d0} + \\theta_{d1}x_1 \\text{;}$\n",
    "\n",
    "$\\theta_{d0} + \\theta_{d1}x_2 \\text{;}$\n",
    "\n",
    "$\\theta_{d0} + \\theta_{d1}x_3 \\text{;}$\n",
    "\n",
    "$\\text{Case 3: } \\binom{3}{2}$\n",
    "\n",
    "$\\text{Pairs of Each Equations}$\n",
    "\n",
    "$\n",
    "\\text{Pair 1: }\\begin{cases}\n",
    "\\theta_{11} + \\theta_{11}x_1 + \\theta_{12}x_2 + \\theta_{13}x_3 \\\\\n",
    "\\theta_{21} + \\theta_{21}x_1 + \\theta_{22}x_2 + \\theta_{23}x_3 \\\\\n",
    "\\end{cases}\n",
    "$\n",
    "\n",
    "$\n",
    "\\text{Pair 2: }\\begin{cases}\n",
    "\\theta_{11} + \\theta_{11}x_1 + \\theta_{12}x_2 + \\theta_{13}x_3 \\\\\n",
    "\\theta_{31} + \\theta_{31}x_1 + \\theta_{32}x_2 + \\theta_{33}x_3 \\\\\n",
    "\\end{cases}\n",
    "$\n",
    "\n",
    "\n",
    "$\\text{Pair 3: }\\begin{cases}\n",
    "\\theta_{21} + \\theta_{21}x_1 + \\theta_{22}x_2 + \\theta_{23}x_3 \\\\\n",
    "\\theta_{31} + \\theta_{31}x_1 + \\theta_{32}x_2 + \\theta_{33}x_3 \\\\\n",
    "\\end{cases}\n",
    "$\n",
    "\n",
    "$\\text{Case 4: } \\binom{3}{3} $\n",
    "\n",
    "$\\text{A Single System of Equation: }\\begin{cases}\n",
    "\\theta_{11} + \\theta_{11}x_1 + \\theta_{12}x_2 + \\theta_{13}x_3 \\\\\n",
    "\\theta_{21} + \\theta_{21}x_1 + \\theta_{22}x_2 + \\theta_{23}x_3 \\\\\n",
    "\\theta_{31} + \\theta_{31}x_1 + \\theta_{32}x_2 + \\theta_{33}x_3 \\\\\n",
    "\\end{cases}\n",
    "$\n"
   ]
  },
  {
   "cell_type": "markdown",
   "metadata": {},
   "source": [
    "### Comment:\n",
    "It looks like its talking about the number of linear regions within the hidden units."
   ]
  },
  {
   "cell_type": "code",
   "execution_count": 3,
   "metadata": {},
   "outputs": [
    {
     "data": {
      "text/plain": [
       "8.0"
      ]
     },
     "execution_count": 3,
     "metadata": {},
     "output_type": "execute_result"
    }
   ],
   "source": [
    "from scipy.special import binom\n",
    "\n",
    "binom(3, 0) + binom(3, 1) + binom(3,2) + binom(3,3)"
   ]
  },
  {
   "cell_type": "markdown",
   "metadata": {},
   "source": []
  }
 ],
 "metadata": {
  "kernelspec": {
   "display_name": "ml",
   "language": "python",
   "name": "python3"
  },
  "language_info": {
   "codemirror_mode": {
    "name": "ipython",
    "version": 3
   },
   "file_extension": ".py",
   "mimetype": "text/x-python",
   "name": "python",
   "nbconvert_exporter": "python",
   "pygments_lexer": "ipython3",
   "version": "3.11.7"
  }
 },
 "nbformat": 4,
 "nbformat_minor": 2
}
