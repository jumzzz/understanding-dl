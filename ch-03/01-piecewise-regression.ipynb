{
 "cells": [
  {
   "cell_type": "code",
   "execution_count": 5,
   "metadata": {},
   "outputs": [
    {
     "name": "stdout",
     "output_type": "stream",
     "text": [
      "(500,) (500,)\n"
     ]
    },
    {
     "data": {
      "image/png": "[encoded data removed]",
      "text/plain": [
       "<Figure size 640x480 with 1 Axes>"
      ]
     },
     "metadata": {},
     "output_type": "display_data"
    },
    {
     "name": "stdout",
     "output_type": "stream",
     "text": [
      "x.shape =  (500, 1)\n",
      "y.shape =  (500, 1)\n"
     ]
    }
   ],
   "source": [
    "import jax.numpy as jnp\n",
    "import math\n",
    "import matplotlib.pyplot as plt\n",
    "\n",
    "# print(math.pi)\n",
    "x_input = jnp.arange(0, stop=2*math.pi, step= 2*math.pi / (500))\n",
    "y_target = jnp.sin(x_input)\n",
    "\n",
    "print(x_input.shape, y_target.shape)\n",
    "plt.plot(x_input,y_target)\n",
    "plt.show()\n",
    "\n",
    "x_input = x_input.reshape((-1,1))\n",
    "y_target = y_target.reshape((-1,1))\n",
    "\n",
    "print('x.shape = ', x_input.shape)\n",
    "print('y.shape = ', y_target.shape)"
   ]
  },
  {
   "cell_type": "markdown",
   "metadata": {},
   "source": [
    "### Example of RNG in JAX\n",
    "\n",
    "```python\n",
    "import jax.numpy as jnp\n",
    "from jax import grad, jit, vmap\n",
    "from jax import random\n",
    "\n",
    "size = 3000\n",
    "\n",
    "key = random.PRNGKey(0)\n",
    "x = random.normal(key, (10,))\n",
    "print(x)\n",
    "```\n",
    "\n",
    "### Example of Linear Layer in Numpy\n",
    "\n",
    "```python\n",
    "import numpy as np\n",
    "\n",
    "x = np.random.rand(100,1)\n",
    "A = np.random.rand(1, 10)\n",
    "out = np.random.rand(10, 1)\n",
    "```"
   ]
  },
  {
   "cell_type": "code",
   "execution_count": 17,
   "metadata": {},
   "outputs": [
    {
     "name": "stdout",
     "output_type": "stream",
     "text": [
      "network_params total num_layers =  2\n",
      "(1) network_params_weights.shape = (1, 10), network_params_bias.shape = (10,)\n",
      "(2) network_params_weights.shape = (10, 1), network_params_bias.shape = (1,)\n"
     ]
    }
   ],
   "source": [
    "import jax.numpy as jnp\n",
    "from jax import grad, jit, vmap, jacobian\n",
    "from jax import random\n",
    "from jaxlib.xla_extension import ArrayImpl\n",
    "import math\n",
    "from jax.scipy.special import logsumexp\n",
    "\n",
    "\n",
    "# A helper function to randomly initialize weights and biases\n",
    "# for a dense neural network layer\n",
    "def random_layer_params(m, n, key, scale=1e-2):\n",
    "  w_key, b_key = random.split(key)\n",
    "  return scale * random.normal(w_key, (m, n)), scale * random.normal(b_key, (n,))\n",
    "\n",
    "# Initialize all layers for a fully-connected neural network with sizes \"sizes\"\n",
    "def init_network_params(input_sizes, output_sizes, key):\n",
    "  assert len(input_sizes) == len(output_sizes), 'input_sizes != output_sizes'\n",
    "  keys = random.split(key, len(input_sizes))\n",
    "  return [random_layer_params(m, n, k) for m, n, k in zip(input_sizes, output_sizes, keys)]\n",
    "\n",
    "def display_params(params, params_name):\n",
    "   print(f'{params_name} total num_layers = ', len(params))\n",
    "   for level, param in enumerate(params, start=1):\n",
    "      weight_shape = param[0].shape\n",
    "      bias_shape = param[1].shape\n",
    "      print(f'({level}) {params_name}_weights.shape = {weight_shape}, {params_name}_bias.shape = {bias_shape}')\n",
    "\n",
    "\n",
    "num_hidden = 10\n",
    "input_sizes = [1, num_hidden]\n",
    "output_sizes = [num_hidden, 1]\n",
    "step_size = 0.01\n",
    "num_epochs = 1\n",
    "n_targets = 1\n",
    "params = init_network_params(input_sizes, output_sizes, random.PRNGKey(0))\n",
    "display_params(params, 'network_params')"
   ]
  },
  {
   "cell_type": "code",
   "execution_count": 23,
   "metadata": {},
   "outputs": [],
   "source": [
    "def relu(x):\n",
    "    return jnp.where(x >= 0, x, 0)\n",
    "\n",
    "def mse(y_pred,y_target):\n",
    "    return jnp.mean((y_pred - y_target) ** 2)\n",
    "\n",
    "def linear(W, x):\n",
    "    return x @ W\n",
    "\n",
    "def predict(params, x_input):\n",
    "    activations = x_input \n",
    "    for w, b in params[:-1]:\n",
    "        outputs = activations @ w + b\n",
    "        activations = relu(outputs)\n",
    "    \n",
    "    final_w = params[-1][0]\n",
    "    final_b = params[-1][1]\n",
    "\n",
    "    logits = activations @ final_w + final_b\n",
    "    return jnp.tanh(logits)\n",
    "\n",
    "@jit\n",
    "def loss_func(params, x_input, targets):\n",
    "  preds = predict(params, x_input)\n",
    "  return mse(preds, targets)"
   ]
  },
  {
   "cell_type": "markdown",
   "metadata": {},
   "source": [
    "### TODO:\n",
    "- Investigate if these weights are actually computing the right gradients. Such that it computes $\\partial f(x; \\omega_{ij}) / \\partial \\omega_{ij}$ where $\\omega_{ij}$ is the weights.\n",
    "- Create a focused notebook on this part."
   ]
  },
  {
   "cell_type": "code",
   "execution_count": 24,
   "metadata": {},
   "outputs": [
    {
     "name": "stdout",
     "output_type": "stream",
     "text": [
      "grads_params total num_layers =  2\n",
      "(1) grads_params_weights.shape = (1, 10), grads_params_bias.shape = (10,)\n",
      "(2) grads_params_weights.shape = (10, 1), grads_params_bias.shape = (1,)\n"
     ]
    }
   ],
   "source": [
    "loss = loss_func(params, x_input, y_target)\n",
    "grads = grad(loss_func)(params, x_input, y_target)\n",
    "\n",
    "display_params(grads, 'grads_params')\n",
    "\n"
   ]
  },
  {
   "cell_type": "code",
   "execution_count": null,
   "metadata": {},
   "outputs": [],
   "source": [
    "W1."
   ]
  }
 ],
 "metadata": {
  "kernelspec": {
   "display_name": "ml",
   "language": "python",
   "name": "python3"
  },
  "language_info": {
   "codemirror_mode": {
    "name": "ipython",
    "version": 3
   },
   "file_extension": ".py",
   "mimetype": "text/x-python",
   "name": "python",
   "nbconvert_exporter": "python",
   "pygments_lexer": "ipython3",
   "version": "3.11.7"
  }
 },
 "nbformat": 4,
 "nbformat_minor": 2
}
