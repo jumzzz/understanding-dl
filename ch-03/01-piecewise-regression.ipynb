{
 "cells": [
  {
   "cell_type": "code",
   "execution_count": 1,
   "metadata": {},
   "outputs": [
    {
     "name": "stderr",
     "output_type": "stream",
     "text": [
      "Platform 'METAL' is experimental and not all JAX functionality may be correctly supported!\n"
     ]
    },
    {
     "name": "stdout",
     "output_type": "stream",
     "text": [
      "Metal device set to: Apple M3 Max\n",
      "\n",
      "systemMemory: 36.00 GB\n",
      "maxCacheSize: 13.50 GB\n",
      "\n",
      "METAL\n"
     ]
    },
    {
     "name": "stderr",
     "output_type": "stream",
     "text": [
      "2024-01-23 13:40:51.616791: W pjrt_plugin/src/mps_client.cc:563] WARNING: JAX Apple GPU support is experimental and not all JAX functionality is correctly supported!\n"
     ]
    }
   ],
   "source": [
    "from jax.lib import xla_bridge\n",
    "print(xla_bridge.get_backend().platform)"
   ]
  },
  {
   "cell_type": "code",
   "execution_count": 1,
   "metadata": {},
   "outputs": [
    {
     "name": "stdout",
     "output_type": "stream",
     "text": [
      "(100, 1)\n",
      "(100, 10)\n",
      "(100, 1)\n"
     ]
    }
   ],
   "source": [
    "import numpy as np\n",
    "\n",
    "x = np.random.rand(100,1)\n",
    "A = np.random.rand(1, 10)\n",
    "out = np.random.rand(10, 1)\n",
    "\n",
    "print(x.shape)\n",
    "x = x @ A\n",
    "print(x.shape)\n",
    "x = x @ out\n",
    "print(x.shape)"
   ]
  },
  {
   "cell_type": "code",
   "execution_count": 2,
   "metadata": {},
   "outputs": [
    {
     "name": "stderr",
     "output_type": "stream",
     "text": [
      "Platform 'METAL' is experimental and not all JAX functionality may be correctly supported!\n",
      "2024-01-24 06:59:09.243384: W pjrt_plugin/src/mps_client.cc:563] WARNING: JAX Apple GPU support is experimental and not all JAX functionality is correctly supported!\n"
     ]
    },
    {
     "name": "stdout",
     "output_type": "stream",
     "text": [
      "Metal device set to: Apple M3 Max\n",
      "\n",
      "systemMemory: 36.00 GB\n",
      "maxCacheSize: 13.50 GB\n",
      "\n",
      "(500,) (500,)\n"
     ]
    },
    {
     "data": {
      "image/png": "[encoded data removed]",
      "text/plain": [
       "<Figure size 640x480 with 1 Axes>"
      ]
     },
     "metadata": {},
     "output_type": "display_data"
    },
    {
     "name": "stdout",
     "output_type": "stream",
     "text": [
      "x.shape =  (500, 1)\n",
      "y.shape =  (500, 1)\n"
     ]
    }
   ],
   "source": [
    "import jax.numpy as jnp\n",
    "import math\n",
    "import matplotlib.pyplot as plt\n",
    "\n",
    "# print(math.pi)\n",
    "x = jnp.arange(0, stop=math.pi / 2, step= math.pi / (2 * 500))\n",
    "y = jnp.sin(x)\n",
    "\n",
    "print(x.shape, y.shape)\n",
    "plt.plot(x,y)\n",
    "plt.show()\n",
    "\n",
    "x = x.reshape((-1,1))\n",
    "y = y.reshape((-1,1))\n",
    "\n",
    "print('x.shape = ', x.shape)\n",
    "print('y.shape = ', y.shape)"
   ]
  },
  {
   "cell_type": "markdown",
   "metadata": {},
   "source": [
    "### Example of RNG in JAX\n",
    "\n",
    "```python\n",
    "import jax.numpy as jnp\n",
    "from jax import grad, jit, vmap\n",
    "from jax import random\n",
    "\n",
    "size = 3000\n",
    "\n",
    "key = random.PRNGKey(0)\n",
    "x = random.normal(key, (10,))\n",
    "print(x)\n",
    "```\n",
    "\n",
    "### Example of Linear Layer in Numpy\n",
    "\n",
    "```python\n",
    "import numpy as np\n",
    "\n",
    "x = np.random.rand(100,1)\n",
    "A = np.random.rand(1, 10)\n",
    "out = np.random.rand(10, 1)\n",
    "```"
   ]
  },
  {
   "cell_type": "code",
   "execution_count": 18,
   "metadata": {},
   "outputs": [],
   "source": [
    "import jax.numpy as jnp\n",
    "from jax import grad, jit, vmap, jacobian\n",
    "from jax import random\n",
    "from jaxlib.xla_extension import ArrayImpl\n",
    "import math\n",
    "from jax.scipy.special import logsumexp\n",
    "\n",
    "def relu(x):\n",
    "    return jnp.where(x >= 0, x, 0)\n",
    "\n",
    "def mse(y_pred,y_target):\n",
    "    return jnp.mean((y_pred - y_target) ** 2)\n",
    "\n",
    "def linear(W, x):\n",
    "    return x @ W\n",
    "\n",
    "def predict(params, x_input):\n",
    "    activations = x_input \n",
    "    for w in params[:-1]:\n",
    "        outputs = activations @ w\n",
    "        activations = relu(outputs)\n",
    "    \n",
    "    final_w = params[-1]\n",
    "    logits = activations @ final_w\n",
    "    return logits - logsumexp(logits)\n",
    "\n",
    "@jit\n",
    "def loss_func(params, x_input, targets):\n",
    "  preds = predict(params, x_input)\n",
    "  return mse(preds, targets)"
   ]
  },
  {
   "cell_type": "markdown",
   "metadata": {},
   "source": [
    "### TODO:\n",
    "- Investigate if these weights are actually computing the right gradients. Such that it computes $\\partial f(x; \\omega_{ij}) / \\partial \\omega_{ij}$ where $\\omega_{ij}$ is the weights.\n",
    "- Create a focused notebook on this part."
   ]
  },
  {
   "cell_type": "code",
   "execution_count": 19,
   "metadata": {},
   "outputs": [
    {
     "name": "stdout",
     "output_type": "stream",
     "text": [
      "(1) param.shape =  (1, 10)\n",
      "(2) param.shape =  (10, 1)\n",
      "(1) grad.shape =  (1, 10)\n",
      "(2) grad.shape =  (10, 1)\n"
     ]
    }
   ],
   "source": [
    "num_hidden = 10\n",
    "input_size = 1\n",
    "output_size = 1\n",
    "key = random.PRNGKey(420)\n",
    "num_instance = 1000\n",
    "\n",
    "# Weights for Shallow Net\n",
    "W1 = random.normal(key, (input_size, num_hidden))\n",
    "W2 = random.normal(key, (num_hidden, output_size))\n",
    "\n",
    "# Input Data\n",
    "x_tr = jnp.arange(0, stop=math.pi / 2, step= math.pi / (2 * num_instance ), dtype=jnp.float32)\n",
    "x_tr = x_tr.reshape((-1, 1))\n",
    "\n",
    "params = [\n",
    "    W1,\n",
    "    W2\n",
    "]\n",
    "\n",
    "y_tr = jnp.sin(x_tr)\n",
    "loss = loss_func(params, x_tr, y_tr)\n",
    "grads = grad(loss_func)(params, x_tr, y_tr)\n",
    "\n",
    "for idx, param in enumerate(params, start=1):\n",
    "    print(f'({idx}) param.shape = ', param.shape)\n",
    "\n",
    "for idx, grad_ in enumerate(grads, start=1):\n",
    "    print(f'({idx}) grad.shape = ', grad_.shape)\n",
    "\n"
   ]
  },
  {
   "cell_type": "code",
   "execution_count": 20,
   "metadata": {},
   "outputs": [
    {
     "data": {
      "text/plain": [
       "jaxlib.xla_extension.ArrayImpl"
      ]
     },
     "execution_count": 20,
     "metadata": {},
     "output_type": "execute_result"
    }
   ],
   "source": [
    "type(W1)"
   ]
  },
  {
   "cell_type": "code",
   "execution_count": null,
   "metadata": {},
   "outputs": [],
   "source": [
    "W1."
   ]
  }
 ],
 "metadata": {
  "kernelspec": {
   "display_name": "ml",
   "language": "python",
   "name": "python3"
  },
  "language_info": {
   "codemirror_mode": {
    "name": "ipython",
    "version": 3
   },
   "file_extension": ".py",
   "mimetype": "text/x-python",
   "name": "python",
   "nbconvert_exporter": "python",
   "pygments_lexer": "ipython3",
   "version": "3.11.7"
  }
 },
 "nbformat": 4,
 "nbformat_minor": 2
}
