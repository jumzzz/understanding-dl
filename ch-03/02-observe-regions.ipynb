{
 "cells": [
  {
   "cell_type": "markdown",
   "metadata": {},
   "source": [
    "### Task\n",
    "Try to learn the ff: formula\n",
    "\n",
    "$\\text{Given that:}$\n",
    "$r = \\sqrt{x^2 + y^2} \\quad \\text{where: } r, x, y \\in [0, 1]$ "
   ]
  },
  {
   "cell_type": "code",
   "execution_count": 16,
   "metadata": {},
   "outputs": [
    {
     "name": "stderr",
     "output_type": "stream",
     "text": [
      "/Users/jums/miniconda3/envs/ml/lib/python3.11/site-packages/seaborn/_base.py:949: FutureWarning: When grouping with a length-1 list-like, you will need to pass a length-1 tuple to get_group in a future version of pandas. Pass `(name,)` instead of `name` to silence this warning.\n",
      "  data_subset = grouped_data.get_group(pd_key)\n",
      "/Users/jums/miniconda3/envs/ml/lib/python3.11/site-packages/seaborn/distributions.py:1128: UserWarning: cmap parameter ignored when using hue mapping.\n",
      "  warnings.warn(msg, UserWarning)\n",
      "/Users/jums/miniconda3/envs/ml/lib/python3.11/site-packages/seaborn/_base.py:949: FutureWarning: When grouping with a length-1 list-like, you will need to pass a length-1 tuple to get_group in a future version of pandas. Pass `(name,)` instead of `name` to silence this warning.\n",
      "  data_subset = grouped_data.get_group(pd_key)\n"
     ]
    },
    {
     "data": {
      "image/png": "[encoded data removed]",
      "text/plain": [
       "<Figure size 640x480 with 1 Axes>"
      ]
     },
     "metadata": {},
     "output_type": "display_data"
    }
   ],
   "source": [
    "import jax.numpy as jnp\n",
    "import math\n",
    "import matplotlib.pyplot as plt\n",
    "from jax import grad, jit, vmap, jacobian\n",
    "import math\n",
    "import seaborn as sns\n",
    "import pandas as pd\n",
    "import jax\n",
    "\n",
    "key = jax.random.PRNGKey(0)\n",
    "key, subkey = jax.random.split(key)\n",
    "x0_input = jax.random.uniform(key, shape=(1000,1), dtype=jnp.float32)\n",
    "x1_input = 1.0 - x0_input\n",
    "X_train = jnp.column_stack([x0_input, x1_input])\n",
    "y_train = jnp.sum(X_train ** 2, axis=1).reshape(-1,1)\n",
    "y_diff = y_train - y_train\n",
    "data = jnp.column_stack([X_train, y_diff])\n",
    "data = pd.DataFrame(data, columns=['x', 'y', 'diff'])\n",
    "sns.kdeplot(data, x='x', y='y', cmap='reds', hue='diff')\n",
    "plt.show()\n",
    "\n"
   ]
  },
  {
   "cell_type": "code",
   "execution_count": 25,
   "metadata": {},
   "outputs": [],
   "source": [
    "import jax.numpy as jnp\n",
    "from jax import grad, jit, vmap, jacobian\n",
    "from jax import random\n",
    "import math\n",
    "from jax.scipy.special import logsumexp\n",
    "from jax.nn import sigmoid\n",
    "\n",
    "\n",
    "# A helper function to randomly initialize weights and biases\n",
    "# for a dense neural network layer\n",
    "def random_layer_params(m, n, key, scale=1e-2):\n",
    "  w_key, b_key = random.split(key)\n",
    "  return scale * random.normal(w_key, (m, n)), scale * random.normal(b_key, (n,))\n",
    "\n",
    "# Initialize all layers for a fully-connected neural network with sizes \"sizes\"\n",
    "def init_network_params(input_sizes, output_sizes):\n",
    "  key =  jax.random.PRNGKey(0)\n",
    "  assert len(input_sizes) == len(output_sizes), 'input_sizes != output_sizes'\n",
    "  keys = random.split(key, len(input_sizes))\n",
    "  return [random_layer_params(m, n, k) for m, n, k in zip(input_sizes, output_sizes, keys)]\n",
    "\n",
    "def display_params(params, params_name):\n",
    "   print(f'{params_name} total num_layers = ', len(params))\n",
    "   for level, param in enumerate(params, start=1):\n",
    "      weight_shape = param[0].shape\n",
    "      bias_shape = param[1].shape\n",
    "      print(f'({level}) {params_name}_weights.shape = {weight_shape}, {params_name}_bias.shape = {bias_shape}')\n",
    "\n"
   ]
  },
  {
   "cell_type": "code",
   "execution_count": 30,
   "metadata": {},
   "outputs": [],
   "source": [
    "def relu(x):\n",
    "    return jnp.where(x >= 0, x, 0)\n",
    "\n",
    "def mse(y_pred,y_target):\n",
    "    return jnp.mean((y_pred - y_target) ** 2)\n",
    "\n",
    "def linear(W, x):\n",
    "    return x @ W\n",
    "\n",
    "def predict(params, X):\n",
    "    activations = X \n",
    "    for w, b in params[:-1]:\n",
    "        outputs = activations @ w + b\n",
    "        activations = relu(outputs)\n",
    "    \n",
    "    final_w = params[-1][0]\n",
    "    final_b = params[-1][1]\n",
    "\n",
    "    logits = activations @ final_w + final_b\n",
    "    return jnp.nn.sigmoid(logits)\n",
    "\n",
    "@jit\n",
    "def loss_func(params, X_train, y_train):\n",
    "  preds = predict(params, X_train)\n",
    "  return mse(preds, y_train)"
   ]
  },
  {
   "cell_type": "markdown",
   "metadata": {},
   "source": [
    "### TODO:\n",
    "- Investigate if these weights are actually computing the right gradients. Such that it computes $\\partial f(x; \\omega_{ij}) / \\partial \\omega_{ij}$ where $\\omega_{ij}$ is the weights.\n",
    "- Create a focused notebook on this part."
   ]
  },
  {
   "cell_type": "code",
   "execution_count": 29,
   "metadata": {},
   "outputs": [
    {
     "name": "stdout",
     "output_type": "stream",
     "text": [
      "[10/50] Loss: 0.4677278995513916\n",
      "[20/50] Loss: 0.3255763351917267\n",
      "[30/50] Loss: 0.23601225018501282\n",
      "[40/50] Loss: 0.17791853845119476\n",
      "[50/50] Loss: 0.1387818157672882\n"
     ]
    }
   ],
   "source": [
    "def generate_data(num_sample):\n",
    "  key =  jax.random.PRNGKey(0)\n",
    "  key, subkey = jax.random.split(key)\n",
    "  x0_input = jax.random.uniform(subkey, shape=(num_sample,1), dtype=jnp.float32)\n",
    "  x1_input = 1.0 - x0_input\n",
    "  x_input = jnp.column_stack([x0_input, x1_input])\n",
    "  y_target = jnp.sqrt(jnp.sum(x_input ** 2, axis=1).reshape(-1,1))\n",
    "  return x_input, y_target\n",
    "\n",
    "def update_weights(params, X, y, step_size):\n",
    "  grads = grad(loss_func)(params, X, y)\n",
    "\n",
    "  return [(w - step_size * dw, b - step_size * db)\n",
    "          for (w, b), (dw, db) in zip(params, grads)]\n",
    "\n",
    "def train_network(params, num_sample, num_epochs, step_size, step_display, current_round):\n",
    "  for curr_epoch in range(1, num_epochs + 1):\n",
    "    X_train, y_train = generate_data(num_sample)\n",
    "\n",
    "    loss = loss_func(params, X_train, y_train)\n",
    "    params = update_weights(params, X_train, y_train, step_size)\n",
    "    if curr_epoch % step_display == 0:\n",
    "      print(f'[{curr_epoch}/{num_epochs}] Loss: {loss}')\n",
    "\n",
    "  return params, current_round + 1\n",
    "\n",
    "def plot_contour(params, X, y_target):\n",
    "  y_pred = predict(params, X)\n",
    "  y_diff = ( y_pred - y_target ) ** 2\n",
    "  \n",
    "  df = pd.DataFrame(jnp.column_stack([X, y_diff]), columns=['x', 'y', 'diff'])\n",
    "  sns.kdeplot(df, x='x', y='y', cmap='reds', hue='diff')\n",
    "  plt.show()\n",
    " \n",
    "# key = jax.random.PRNGKey(0)\n",
    "# key, subkey = jax.random.split(key)\n",
    "# x0_input = jax.random.uniform(key, shape=(1000,1), dtype=jnp.float32)\n",
    "# x1_input = 1.0 - x0_input\n",
    "# x_input = jnp.column_stack([x0_input, x1_input])\n",
    "# y_target = jnp.sum(x_input ** 2, axis=1).reshape(-1,1)\n",
    "# y_diff = y_target - y_target\n",
    "# data = jnp.column_stack([x_input, y_diff])\n",
    "# data = pd.DataFrame(data, columns=['x', 'y', 'diff'])\n",
    "# sns.kdeplot(data, x='x', y='y', cmap='reds', hue='diff')\n",
    "# plt.show()\n",
    "  \n",
    "\n",
    "num_hidden = 10\n",
    "input_sizes = [2, num_hidden]\n",
    "output_sizes = [num_hidden, 1]\n",
    "num_sample = 128\n",
    "num_epochs = 50\n",
    "step_size = 0.01\n",
    "step_display = 10\n",
    "current_round = 1\n",
    "\n",
    "key =  jax.random.PRNGKey(0)\n",
    "params = init_network_params(input_sizes, output_sizes)\n",
    "params, current_round = train_network(params, num_sample, num_epochs, step_size, step_display, current_round)\n",
    "X_test, y_test = generate_data(256)\n"
   ]
  },
  {
   "cell_type": "code",
   "execution_count": null,
   "metadata": {},
   "outputs": [],
   "source": []
  }
 ],
 "metadata": {
  "kernelspec": {
   "display_name": "ml",
   "language": "python",
   "name": "python3"
  },
  "language_info": {
   "codemirror_mode": {
    "name": "ipython",
    "version": 3
   },
   "file_extension": ".py",
   "mimetype": "text/x-python",
   "name": "python",
   "nbconvert_exporter": "python",
   "pygments_lexer": "ipython3",
   "version": "3.11.7"
  }
 },
 "nbformat": 4,
 "nbformat_minor": 2
}
